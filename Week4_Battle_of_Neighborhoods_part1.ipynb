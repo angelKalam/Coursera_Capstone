{
 "cells": [
  {
   "cell_type": "markdown",
   "metadata": {},
   "source": [
    "# Coursera Capstone Project\n",
    "\n",
    "## The Battle of Neighborhoods (Week 1)\n",
    "\n",
    "### Angeliki Kalamara - Part 1 : Introduction and Data Sections"
   ]
  },
  {
   "cell_type": "code",
   "execution_count": 1,
   "metadata": {},
   "outputs": [
    {
     "name": "stdout",
     "output_type": "stream",
     "text": [
      "Libraries imported.\n"
     ]
    }
   ],
   "source": [
    "import pandas as pd \n",
    "import numpy as np \n",
    "import time\n",
    "\n",
    "pd.set_option('display.max_columns', None)\n",
    "pd.set_option('display.max_rows', None)\n",
    "\n",
    "import json # library to handle JSON files\n",
    "import requests # library to handle requests\n",
    "from pandas.io.json import json_normalize # tranform JSON file into a pandas dataframe\n",
    "\n",
    "\n",
    "#!conda install -c conda-forge geopy --yes # uncomment this line if you haven't completed the Foursquare API lab\n",
    "from geopy.geocoders import Nominatim # convert an address into latitude and longitude values\n",
    "\n",
    "#!conda install -c conda-forge folium=0.5.0 --yes # uncomment this line if you haven't completed the Foursquare API lab\n",
    "import folium # map rendering library\n",
    "import folium # map rendering library\n",
    "from folium import plugins\n",
    "\n",
    "# Matplotlib and associated plotting modules\n",
    "import matplotlib.cm as cm\n",
    "import matplotlib.colors as colors\n",
    "\n",
    "import seaborn as sns\n",
    "\n",
    "# import k-means from clustering stage\n",
    "from sklearn.cluster import KMeans\n",
    "\n",
    "print('Libraries imported.')"
   ]
  },
  {
   "cell_type": "markdown",
   "metadata": {},
   "source": [
    "# 1. Introduction - Business Problem"
   ]
  },
  {
   "cell_type": "markdown",
   "metadata": {},
   "source": [
    "## Discussion of the business problem and the audience who would be interested in this project.\n",
    "## Description of the Problem and Background\n",
    "### Scenario:\n",
    "\n",
    "I am a data scientist residing in Utrecht, Netherlands. I currently live within walking distance to the tram station I enjoy many ammenities and venues in the area, such as various international cousine restaurants, cafes, food shops and entertainment. I have been offered a great opportunity to work for a leader firm in Manhattan, NY. I am very excited and I want to use this opportunity to practice my learnings in Coursera in order to answer relevant questions arisen. The key question is : How much do I need to spend in comparison to Melbourne to find an apartment with my partner which is as convenient and affordable as mine in Utrecht, considering the salary difference. I can use available real estate websites and Google but the idea is to use and apply myself the learned tools during the course. In order to make a comparison and evaluation of the rental options in Manhattan NY, I must set some basis, therefore the apartment in Manhattan must meet the following demands:\n",
    "\n",
    "1. Apartment must be 2 or 3 bedrooms\n",
    "2. Desired location is near a metro station in the Manhattan area and within 1.0 mile (1.6 km) radius\n",
    "3. Price of rent not exceed 7,000 dollars  per month\n",
    "4. Top ammenities in the selected neighborhood shall be similar to current residence\n",
    "5. Desirable to have venues such as coffee shops, restaurants Asian Thai, wine stores, gym and food shops\n",
    "6. as a reference, I have included a map of venues near current residence in Utrecht.\n",
    "\n",
    "### Business Problem:\n",
    "The challenge is to find a suitable apartment for rent in Manhattan NY that complies with the demands on location, price and venues. The data required to resolve this challenge is described in the following section 2, below.\n",
    "\n",
    "### Interested Audience\n",
    "I believe this is a relevant challenge with valid questions for anyone moving to other large city in US, EU or Asia. The same methodology can be applied in accordance to demands as applicable. This case is also applicable for anyone interested in exploring starting or locating a new business in any city. Lastly, it can also serve as a good practical exercise to develop Data Science skills."
   ]
  },
  {
   "cell_type": "markdown",
   "metadata": {},
   "source": [
    "# 2. Data Section"
   ]
  },
  {
   "cell_type": "markdown",
   "metadata": {},
   "source": [
    "## Description of the data and its sources that will be used to solve the problem\n",
    "\n",
    "### The following data is required to answer the issues of the problem:\n",
    "\n",
    "* List of Boroughs and neighborhoods of Manhattan with their geodata (latitud and longitud)\n",
    "* List of Subway metro stations in Manhattan with their address location\n",
    "* List of apartments for rent in Manhattan area with their addresses and price\n",
    "* Preferably, a list of apartment for rent with additional information, such as price, address, area, # of beds, etc\n",
    "* Venues for each Manhattan neighborhood ( than can be clustered)\n",
    "* Venues for subway metro stations, as needed\n",
    "\n",
    "## How the data will be used to solve the problem\n",
    "### The data will be used as follows:\n",
    "\n",
    "* Use Foursquare and geopy data to map top 10 venues for all Manhattan neighborhoods and clustered in groups ( as per Course LAB)\n",
    "* Use foursquare and geopy data to map the location of subway metro stations , separately and on top of the above clustered map in order to be able to identify the venues and ammenities near each metro station, or explore each subway location separately\n",
    "* Use Foursquare and geopy data to map the location of rental places, in some form, linked to the subway locations.\n",
    "create a map that depicts, for instance, the average rental price per square ft, around a radious of 1.0 mile (1.6 km) around each subway station - or a similar metrics. I will be able to quickly point to the popups to know the relative price per subway area.\n",
    "* Addresses from rental locations will be converted to geodata( lat, long) using Geopy-distance and Nominatim.\n",
    "* Data will be searched in open data sources if available, from real estate sites if open to reading, libraries or other government agencies such as Metro New York MTA, etc.\n",
    "\n",
    "The procesing of these DATA will allow to answer the key questions to make a decision:\n",
    "\n",
    "* What is the cost of rent (per square ft) around a mile radius from each subway metro station?\n",
    "* What is the area of Manhattan with best rental pricing that meets criteria established?\n",
    "* What is the distance from work place ( Park Ave and 53 rd St) and the tentative future home?\n",
    "* What are the venues of the two best places to live? How the prices compare?\n",
    "* How venues distribute among Manhattan neighborhoods and around metro stations?\n",
    "* Are there tradeoffs between size and price and location?\n",
    "* Any other interesting statistical data findings of the real estate and overall data."
   ]
  },
  {
   "cell_type": "markdown",
   "metadata": {},
   "source": [
    "## Reference of venues around current residence in Utrecht for comparison to Manhattan place"
   ]
  },
  {
   "cell_type": "code",
   "execution_count": 2,
   "metadata": {},
   "outputs": [
    {
     "name": "stdout",
     "output_type": "stream",
     "text": [
      "The geograpical coordinate of Utrecht home are 52.0773974, 5.086263.\n"
     ]
    }
   ],
   "source": [
    "# Van Heuven Goedhartlaan, Netherlands\n",
    "address = 'Van Heuven Goedhartlaan, Utrecht'\n",
    "\n",
    "#address = 'Riverside Quay, Southbank'\n",
    "\n",
    "geolocator = Nominatim(user_agent='coursera-capstone-project')\n",
    "location = geolocator.geocode(address)\n",
    "latitude = location.latitude\n",
    "longitude = location.longitude\n",
    "print('The geograpical coordinate of Utrecht home are {}, {}.'.format(latitude, longitude))"
   ]
  },
  {
   "cell_type": "code",
   "execution_count": 3,
   "metadata": {},
   "outputs": [],
   "source": [
    "neighborhood_latitude=52.0773974\n",
    "neighborhood_longitude=5.086263"
   ]
  },
  {
   "cell_type": "code",
   "execution_count": 4,
   "metadata": {},
   "outputs": [
    {
     "name": "stdout",
     "output_type": "stream",
     "text": [
      "Your credentails:\n",
      "CLIENT_ID: 0TILJ2HJ02ECJRT1HKXLE2RGFJ2KZDGRTLD3LT2JQKSFYLPJ\n",
      "CLIENT_SECRET:30CLYLN2WX5PF3SDRTNJHRN33IUD1SCXRNUOG1SELYDFP51Q\n"
     ]
    }
   ],
   "source": [
    "# @hidden_cell\n",
    "CLIENT_ID = '0TILJ2HJ02ECJRT1HKXLE2RGFJ2KZDGRTLD3LT2JQKSFYLPJ' # your Foursquare ID\n",
    "CLIENT_SECRET = '30CLYLN2WX5PF3SDRTNJHRN33IUD1SCXRNUOG1SELYDFP51Q' # your Foursquare Secret\n",
    "VERSION = '20180605' # Foursquare API version\n",
    "\n",
    "print('Your credentails:')\n",
    "print('CLIENT_ID: ' + CLIENT_ID)\n",
    "print('CLIENT_SECRET:' + CLIENT_SECRET)"
   ]
  },
  {
   "cell_type": "code",
   "execution_count": 5,
   "metadata": {},
   "outputs": [
    {
     "data": {
      "text/plain": [
       "'https://api.foursquare.com/v2/venues/explore?&client_id=0TILJ2HJ02ECJRT1HKXLE2RGFJ2KZDGRTLD3LT2JQKSFYLPJ&client_secret=30CLYLN2WX5PF3SDRTNJHRN33IUD1SCXRNUOG1SELYDFP51Q&v=20180605&ll=52.0773974,5.086263&radius=500&limit=100'"
      ]
     },
     "execution_count": 5,
     "metadata": {},
     "output_type": "execute_result"
    }
   ],
   "source": [
    "LIMIT = 100 # limit of number of venues returned by Foursquare API\n",
    "radius = 500 # define radius\n",
    "\n",
    "# create URL\n",
    "url = 'https://api.foursquare.com/v2/venues/explore?&client_id={}&client_secret={}&v={}&ll={},{}&radius={}&limit={}'.format(\n",
    "    CLIENT_ID, \n",
    "    CLIENT_SECRET, \n",
    "    VERSION, \n",
    "    neighborhood_latitude, \n",
    "    neighborhood_longitude, \n",
    "    radius, \n",
    "    LIMIT)\n",
    "url # display URL"
   ]
  },
  {
   "cell_type": "code",
   "execution_count": 6,
   "metadata": {},
   "outputs": [],
   "source": [
    "results = requests.get(url).json()\n",
    "#results"
   ]
  },
  {
   "cell_type": "markdown",
   "metadata": {},
   "source": [
    "Function that extracts the category of the venues near Utrecht (as borrowed from the Foursquare lab)"
   ]
  },
  {
   "cell_type": "code",
   "execution_count": 7,
   "metadata": {},
   "outputs": [],
   "source": [
    "# function that extracts the category of the venue\n",
    "def get_category_type(row):\n",
    "    try:\n",
    "        categories_list = row['categories']\n",
    "    except:\n",
    "        categories_list = row['venue.categories']\n",
    "        \n",
    "    if len(categories_list) == 0:\n",
    "        return None\n",
    "    else:\n",
    "        return categories_list[0]['name']"
   ]
  },
  {
   "cell_type": "code",
   "execution_count": 8,
   "metadata": {},
   "outputs": [
    {
     "name": "stderr",
     "output_type": "stream",
     "text": [
      "/Users/angeliki/anaconda3/envs/test/lib/python3.7/site-packages/ipykernel_launcher.py:3: FutureWarning: pandas.io.json.json_normalize is deprecated, use pandas.json_normalize instead\n",
      "  This is separate from the ipykernel package so we can avoid doing imports until\n"
     ]
    },
    {
     "data": {
      "text/html": [
       "<div>\n",
       "<style scoped>\n",
       "    .dataframe tbody tr th:only-of-type {\n",
       "        vertical-align: middle;\n",
       "    }\n",
       "\n",
       "    .dataframe tbody tr th {\n",
       "        vertical-align: top;\n",
       "    }\n",
       "\n",
       "    .dataframe thead th {\n",
       "        text-align: right;\n",
       "    }\n",
       "</style>\n",
       "<table border=\"1\" class=\"dataframe\">\n",
       "  <thead>\n",
       "    <tr style=\"text-align: right;\">\n",
       "      <th></th>\n",
       "      <th>name</th>\n",
       "      <th>categories</th>\n",
       "      <th>lat</th>\n",
       "      <th>lng</th>\n",
       "    </tr>\n",
       "  </thead>\n",
       "  <tbody>\n",
       "    <tr>\n",
       "      <th>0</th>\n",
       "      <td>Tennisclub Domstad</td>\n",
       "      <td>Tennis Court</td>\n",
       "      <td>52.081005</td>\n",
       "      <td>5.082411</td>\n",
       "    </tr>\n",
       "    <tr>\n",
       "      <th>1</th>\n",
       "      <td>Aquacenter Den Hommel</td>\n",
       "      <td>Pool</td>\n",
       "      <td>52.080883</td>\n",
       "      <td>5.084522</td>\n",
       "    </tr>\n",
       "    <tr>\n",
       "      <th>2</th>\n",
       "      <td>Utrechtse Bazaar</td>\n",
       "      <td>Flea Market</td>\n",
       "      <td>52.077194</td>\n",
       "      <td>5.079984</td>\n",
       "    </tr>\n",
       "    <tr>\n",
       "      <th>3</th>\n",
       "      <td>Tramhalte 24 Oktoberplein Zuid</td>\n",
       "      <td>Light Rail Station</td>\n",
       "      <td>52.078889</td>\n",
       "      <td>5.092793</td>\n",
       "    </tr>\n",
       "  </tbody>\n",
       "</table>\n",
       "</div>"
      ],
      "text/plain": [
       "                             name          categories        lat       lng\n",
       "0              Tennisclub Domstad        Tennis Court  52.081005  5.082411\n",
       "1           Aquacenter Den Hommel                Pool  52.080883  5.084522\n",
       "2                Utrechtse Bazaar         Flea Market  52.077194  5.079984\n",
       "3  Tramhalte 24 Oktoberplein Zuid  Light Rail Station  52.078889  5.092793"
      ]
     },
     "execution_count": 8,
     "metadata": {},
     "output_type": "execute_result"
    }
   ],
   "source": [
    "venues = results['response']['groups'][0]['items']\n",
    "    \n",
    "UTnearby_venues = json_normalize(venues) # flatten JSON\n",
    "\n",
    "# filter columns\n",
    "filtered_columns = ['venue.name', 'venue.categories', 'venue.location.lat', 'venue.location.lng']\n",
    "UTnearby_venues = UTnearby_venues.loc[:, filtered_columns]\n",
    "\n",
    "# filter the category for each row\n",
    "UTnearby_venues['venue.categories'] = UTnearby_venues.apply(get_category_type, axis=1)\n",
    "\n",
    "# clean columns\n",
    "UTnearby_venues.columns = [col.split(\".\")[-1] for col in UTnearby_venues.columns]\n",
    "\n",
    "UTnearby_venues.head(10)"
   ]
  },
  {
   "cell_type": "markdown",
   "metadata": {},
   "source": [
    "\n",
    "### Map of Utrecht with venues near residence place - for reference"
   ]
  },
  {
   "cell_type": "code",
   "execution_count": 9,
   "metadata": {},
   "outputs": [
    {
     "data": {
      "text/html": [
       "<div style=\"width:100%;\"><div style=\"position:relative;width:100%;height:0;padding-bottom:60%;\"><span style=\"color:#565656\">Make this Notebook Trusted to load map: File -> Trust Notebook</span><iframe src=\"about:blank\" style=\"position:absolute;width:100%;height:100%;left:0;top:0;border:none !important;\" data-html=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 onload=\"this.contentDocument.open();this.contentDocument.write(atob(this.getAttribute('data-html')));this.contentDocument.close();\" allowfullscreen webkitallowfullscreen mozallowfullscreen></iframe></div></div>"
      ],
      "text/plain": [
       "<folium.folium.Map at 0x117d9b3d0>"
      ]
     },
     "execution_count": 9,
     "metadata": {},
     "output_type": "execute_result"
    }
   ],
   "source": [
    "# create map of Singapore place  using latitude and longitude values\n",
    "map_ut = folium.Map(location=[latitude, longitude], zoom_start=20)\n",
    "\n",
    "# add markers to map\n",
    "for lat, lng, label in zip(UTnearby_venues['lat'], UTnearby_venues['lng'], UTnearby_venues['name']):\n",
    "    label = folium.Popup(label, parse_html=True)\n",
    "    folium.RegularPolygonMarker(\n",
    "        [lat, lng],\n",
    "        number_of_sides=4,\n",
    "        radius=10,\n",
    "        popup=label,\n",
    "        color='blue',\n",
    "        fill_color='#0f0f0f',\n",
    "        fill_opacity=0.7,\n",
    "    ).add_to(map_ut)  \n",
    "    \n",
    "map_ut"
   ]
  },
  {
   "cell_type": "markdown",
   "metadata": {},
   "source": [
    "\n",
    "## 3.\tMethodology Section\n",
    "\n",
    "(tba)"
   ]
  },
  {
   "cell_type": "markdown",
   "metadata": {},
   "source": [
    "## 4. Results Section\n",
    "\n",
    "(tba)"
   ]
  },
  {
   "cell_type": "markdown",
   "metadata": {},
   "source": [
    "## 5. Discussion Section\n",
    "\n",
    "(tba)"
   ]
  },
  {
   "cell_type": "markdown",
   "metadata": {},
   "source": [
    "## 6. Conclusion Section\n",
    "(tba)"
   ]
  },
  {
   "cell_type": "code",
   "execution_count": null,
   "metadata": {},
   "outputs": [],
   "source": []
  }
 ],
 "metadata": {
  "kernelspec": {
   "display_name": "test",
   "language": "python",
   "name": "test"
  },
  "language_info": {
   "codemirror_mode": {
    "name": "ipython",
    "version": 3
   },
   "file_extension": ".py",
   "mimetype": "text/x-python",
   "name": "python",
   "nbconvert_exporter": "python",
   "pygments_lexer": "ipython3",
   "version": "3.7.6"
  }
 },
 "nbformat": 4,
 "nbformat_minor": 4
}
